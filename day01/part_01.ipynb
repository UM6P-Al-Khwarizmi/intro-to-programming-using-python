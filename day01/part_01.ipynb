{
 "cells": [
  {
   "cell_type": "markdown",
   "id": "c58884ae",
   "metadata": {},
   "source": [
    "# Exercice 01: Standard output"
   ]
  },
  {
   "cell_type": "markdown",
   "id": "98a55ba6",
   "metadata": {},
   "source": [
    "1. Print your name on the standard Output using the function `print`.\n",
    "2. Print your name, age and city each in a separate line.\n",
    "3. Print your name, age and city In a single line\n",
    "4. In a meaningful phrase Print your name, age and city in a single line"
   ]
  },
  {
   "cell_type": "code",
   "execution_count": 22,
   "id": "7ec3cd3f",
   "metadata": {},
   "outputs": [],
   "source": [
    "# Use this cell to write your answer"
   ]
  },
  {
   "cell_type": "markdown",
   "id": "4eb25b0a",
   "metadata": {},
   "source": [
    "# Exercice 02: Variables"
   ]
  },
  {
   "cell_type": "markdown",
   "id": "75b5ed2c",
   "metadata": {},
   "source": [
    "Consider the following statements (* remember a statement is a line of code the interpreter can execute. `x = 1` is an expression that stores the value `1` into `x` *):\n",
    "1. Print the summation, substruction, multiplication and division of `x` and `y` each in a separate line without using any other variables.\n",
    "2. Store the summation, substruction, multiplication and division of `x` and `y` each in a separate variable, print those variables each in a separate line."
   ]
  },
  {
   "cell_type": "code",
   "execution_count": 23,
   "id": "3c382322",
   "metadata": {},
   "outputs": [],
   "source": [
    "x = 1\n",
    "y = 2\n",
    "\n",
    "# Use this cell to write your answer"
   ]
  },
  {
   "cell_type": "markdown",
   "id": "fcd700f5",
   "metadata": {},
   "source": [
    "# Exercice 03: Variables"
   ]
  },
  {
   "cell_type": "markdown",
   "id": "a608bd37",
   "metadata": {},
   "source": [
    "Consider the following statements:\n",
    "1. Swap the values of `x` and `y` *`x` should store the value of `y` and `y` should store the value of `x`*\n",
    "2. Store the sum of `x` and `y` into `x` and their subtraction into `y`"
   ]
  },
  {
   "cell_type": "code",
   "execution_count": 24,
   "id": "28aba62a",
   "metadata": {},
   "outputs": [],
   "source": [
    "x = 22\n",
    "y = 33\n",
    "\n",
    "# Use this cell to write your answer"
   ]
  },
  {
   "cell_type": "markdown",
   "id": "cdddaca1",
   "metadata": {},
   "source": [
    "# Exercice 04: Conditions"
   ]
  },
  {
   "cell_type": "markdown",
   "id": "9fa90c43",
   "metadata": {},
   "source": [
    "Consider the following statements\n",
    "1. Write an **if statement** to check if `x` is equal to `y` if so print `\"x and y are equal\"` otherwise print `\"x and y are not equal\"`\n",
    "2. Write an **if statement** to check if `x` is equal to `z` if so print `\"x and z are equal\"` otherwise print `\"x and z are not equal\"`\n",
    "3. Write an **if statement** to check if either `x` is equal `y` or `x`  is equal to `z` if so print `x is equal to y or z` otherwise print `\"x is equal to neither y nor z\"`\n",
    "4. Write an **if statement** to check if `x` is equal to both `y` and `z` if so print `x is equal to both y and z` otherwise print `\"x is equal to neither y nor z\"`"
   ]
  },
  {
   "cell_type": "code",
   "execution_count": 25,
   "id": "83d12754",
   "metadata": {},
   "outputs": [
    {
     "name": "stdout",
     "output_type": "stream",
     "text": [
      "3 is equal to 3 or 4 is equal to 1\n"
     ]
    }
   ],
   "source": [
    "x = 1\n",
    "y = 2\n",
    "z = 1\n",
    "\n",
    "# hints\n",
    "# the following is an if statement\n",
    "if 3 == 3 or 4 == 1:\n",
    "    print(\"3 is equal to 3 or 4 is equal to 1\")\n",
    "\n",
    "#Write your answer bellow"
   ]
  },
  {
   "cell_type": "markdown",
   "id": "492aaed0",
   "metadata": {},
   "source": [
    "# Exercice 05: Conditions"
   ]
  },
  {
   "cell_type": "markdown",
   "id": "302e1350",
   "metadata": {},
   "source": [
    "Consider the following statements:\n",
    "1. Using the modulo operator `%`, check each variable if it is divisible by two and print some useful output.\n",
    "2. Using the modulo operator `%`, check if at least one of the variables is divisible by two and print some useful output\n",
    "3. Using the modulo operator `%`, check if all the variables ar divisible by two and print some useful output"
   ]
  },
  {
   "cell_type": "code",
   "execution_count": 26,
   "id": "3aaf1703",
   "metadata": {},
   "outputs": [],
   "source": [
    "x = 9\n",
    "y = 222\n",
    "z = 3\n",
    "\n",
    "#Write your answer bellow"
   ]
  },
  {
   "cell_type": "markdown",
   "id": "053e15a4",
   "metadata": {},
   "source": [
    "# Exercice 06: Variables and conditions"
   ]
  },
  {
   "cell_type": "markdown",
   "id": "3ecac2c0",
   "metadata": {},
   "source": [
    "Consider the bellow statements:\n",
    "- Write an **if else statement** to check wheter the variable `x` is even or odd, if it is even print `\"x is even\"` otherwise print `\"x is odd\"`"
   ]
  },
  {
   "cell_type": "code",
   "execution_count": 27,
   "id": "938a6241",
   "metadata": {},
   "outputs": [],
   "source": [
    "x = 66\n",
    "\n",
    "# Write your answer bellow"
   ]
  },
  {
   "cell_type": "markdown",
   "id": "13d33a69",
   "metadata": {},
   "source": [
    "# Exercice 07: Variables and conditions"
   ]
  },
  {
   "cell_type": "markdown",
   "id": "e769faa4",
   "metadata": {},
   "source": [
    "Consider the bellow code:\n",
    "1. Only by looking at the code, can you tell the type of the variables `x` and `y`.\n",
    "2. Print the type of the variables `x` and `y` using the function `type`.\n"
   ]
  },
  {
   "cell_type": "code",
   "execution_count": 28,
   "id": "6112c1d9",
   "metadata": {},
   "outputs": [],
   "source": [
    "x = True\n",
    "y = False\n",
    "\n",
    "#Write your answer bellow"
   ]
  },
  {
   "cell_type": "markdown",
   "id": "ec61aee1",
   "metadata": {},
   "source": [
    "# Exercice 08: conditions"
   ]
  },
  {
   "cell_type": "markdown",
   "id": "328ff359",
   "metadata": {},
   "source": [
    "Consider the variable `x`:\n",
    "- Using the modulo operator `%` and **if, elif, else** statements check if `x` is divisible by `2` if so print `\"x is divisible by 2\"` and check if `x` is divisible by `3` if so print `\"x is divisible by 3\"`, and check if `x` is divisible by `6` if so print `\"x is divisible by 6\"` else using a pass statement do nothing."
   ]
  },
  {
   "cell_type": "code",
   "execution_count": 29,
   "id": "f9fc1065",
   "metadata": {},
   "outputs": [],
   "source": [
    "x = 2322\n",
    "\n",
    "#Write your answer bellow"
   ]
  },
  {
   "cell_type": "markdown",
   "id": "bfe2c7b1",
   "metadata": {},
   "source": [
    "# Exercice 09: conditions"
   ]
  },
  {
   "cell_type": "markdown",
   "id": "2d173da8",
   "metadata": {},
   "source": [
    "Consider the variable `x`:\n",
    "- Using an **if statement** check if `x` is divisible by `2`and a **nested if statement** to check if it's divisible by `3`."
   ]
  },
  {
   "cell_type": "code",
   "execution_count": 30,
   "id": "e773f312",
   "metadata": {},
   "outputs": [],
   "source": [
    "x = 8989\n",
    "#Write your answer bellow"
   ]
  },
  {
   "cell_type": "markdown",
   "id": "1c40dbb2",
   "metadata": {},
   "source": [
    "# Exercice 10: Variables and conditions"
   ]
  },
  {
   "cell_type": "markdown",
   "id": "a7f37439",
   "metadata": {},
   "source": [
    "Consider following statements:\n",
    "- Only by looking at the code, can you tell what would be printed. write your answer as comments next to each print statement.\n",
    "- Explain the behavior, write your answer as comments at the end of the code."
   ]
  },
  {
   "cell_type": "code",
   "execution_count": 31,
   "id": "4615cb39",
   "metadata": {},
   "outputs": [],
   "source": [
    "x = 3\n",
    "y = 3.3\n",
    "z = True\n",
    "a = 'test'\n",
    "#print(x is int)\n",
    "#print(type(x) is int)\n",
    "#print(type(y) is str)\n",
    "#print(type(y) is float)\n",
    "#print(type(z) is bool)\n",
    "#print(type(a) is str)"
   ]
  },
  {
   "cell_type": "markdown",
   "id": "a854f619",
   "metadata": {},
   "source": [
    "# Exercice 11: Standard Input/Output"
   ]
  },
  {
   "cell_type": "markdown",
   "id": "2d941c03",
   "metadata": {},
   "source": [
    "Create a program that takes an input from the user and print it in the standard output."
   ]
  },
  {
   "cell_type": "code",
   "execution_count": null,
   "id": "cf96712f",
   "metadata": {},
   "outputs": [],
   "source": []
  },
  {
   "cell_type": "markdown",
   "id": "ceaad399",
   "metadata": {},
   "source": [
    "# Exercice 12: Standard I/O"
   ]
  },
  {
   "cell_type": "markdown",
   "id": "6a3b6743",
   "metadata": {},
   "source": [
    "Create a program that takes the name and age of the user from the standard input.\n",
    " 1. If the user entered `\"hamid\"` and `\"23\"` print `hamis is 23`.\n",
    " 2. Use the method `format` to do the same thing as above."
   ]
  },
  {
   "cell_type": "code",
   "execution_count": null,
   "id": "48202165",
   "metadata": {},
   "outputs": [],
   "source": []
  },
  {
   "cell_type": "markdown",
   "id": "08d4179a",
   "metadata": {},
   "source": [
    "# Exercice 13: Standard I/O"
   ]
  },
  {
   "cell_type": "markdown",
   "id": "5c56c31b",
   "metadata": {},
   "source": [
    "Create a program that takes an integer from the input and print its type.\n",
    "- Run your code and enter the value `\"11\"`\n",
    "- Run your code again and enter the value `test`\n",
    "- Explain the output."
   ]
  },
  {
   "cell_type": "code",
   "execution_count": null,
   "id": "6cdbc7f3",
   "metadata": {},
   "outputs": [],
   "source": []
  },
  {
   "cell_type": "markdown",
   "id": "be2f82d1",
   "metadata": {},
   "source": [
    "# Exrecice 14: Variables"
   ]
  },
  {
   "cell_type": "markdown",
   "id": "78976138",
   "metadata": {},
   "source": [
    "1. Store the values `1`, `0.0`, `1j` and `\"this is a string\"` in the variables `a`, `b`, `c`, and `d` respectively.\n",
    "2. Print the type of each variable using the function `type`.\n",
    "3. \n",
    "    * Print the type of the following sums : `a + b` and `b + c`, and explain the behavior.\n",
    "    * Try summing `a` and `d`, and explain the behavior.\n",
    "4. consider the two following strings `122` and `rrr`.\n",
    "    * Using `int` class constuctor try to convert the  above strings to integer types.\n",
    "    * What do we call the above behavior\n",
    "    * *Don't worry about the term constructors we will get back to them later just use the syntax `int(122)`.*\n"
   ]
  },
  {
   "cell_type": "code",
   "execution_count": null,
   "id": "0263f91e",
   "metadata": {},
   "outputs": [],
   "source": []
  },
  {
   "cell_type": "markdown",
   "id": "4a1a82eb",
   "metadata": {},
   "source": [
    "# Exercice 15: Variables"
   ]
  },
  {
   "cell_type": "markdown",
   "id": "9d6ec9ad",
   "metadata": {},
   "source": [
    "Create a program that takes two strings from the user.\n",
    "* Enter the values `122` and `rrr` and print their according types.\n",
    "* Use the method `isdigit()` to make sure the input is a valid integer.\n",
    "    * *Don't worry about the term method just think of it as a special function that we call using the syntax `var.isdigit()` where var is a variable that stores some data*\n",
    "* If the user entered invalid input print `\"invalid input\"` and terminate the program.\n",
    "* If the user entered a valid input print the sum of the integers.\n"
   ]
  },
  {
   "cell_type": "code",
   "execution_count": null,
   "id": "92f1121a",
   "metadata": {},
   "outputs": [],
   "source": []
  },
  {
   "cell_type": "markdown",
   "id": "dbb89719",
   "metadata": {},
   "source": [
    "# Exercice 16: Conditions"
   ]
  },
  {
   "cell_type": "markdown",
   "id": "2515d3c1",
   "metadata": {},
   "source": [
    "- Create a program that reads from the standard input two integers and a binary operator (`+`,`-`,`/` or `*`) and prints the result of the opration on the two integers.\n",
    "    - Check the validity of the input, and print `\"Invalid input\"` if the input is not valid.\n",
    "    \n",
    "- Rewrite the program so it can also take floats or complex numbers or any combinasion of the mentioned types.\n",
    "    - Check the validity of the input, and print `Invalid input` if the input is not valid."
   ]
  },
  {
   "cell_type": "code",
   "execution_count": null,
   "id": "4e93835b",
   "metadata": {},
   "outputs": [],
   "source": []
  }
 ],
 "metadata": {
  "kernelspec": {
   "display_name": "Python 3 (ipykernel)",
   "language": "python",
   "name": "python3"
  },
  "language_info": {
   "codemirror_mode": {
    "name": "ipython",
    "version": 3
   },
   "file_extension": ".py",
   "mimetype": "text/x-python",
   "name": "python",
   "nbconvert_exporter": "python",
   "pygments_lexer": "ipython3",
   "version": "3.8.10"
  }
 },
 "nbformat": 4,
 "nbformat_minor": 5
}
