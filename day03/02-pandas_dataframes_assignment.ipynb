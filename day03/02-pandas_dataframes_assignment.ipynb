{
 "cells": [
  {
   "cell_type": "markdown",
   "id": "4221f48d",
   "metadata": {},
   "source": [
    "# Pandas DataFrames exercises"
   ]
  },
  {
   "cell_type": "markdown",
   "id": "38f34ed8",
   "metadata": {},
   "source": [
    "In this exercise, we are using Automobile Dataset for data analysis. This Dataset has different characteristics of an auto such as body-style, wheel-base, engine-type, price, mileage, horsepower.\n",
    "\n",
    "you can find the data in the data folder under `Automobile_data.csv` name"
   ]
  },
  {
   "attachments": {},
   "cell_type": "markdown",
   "id": "a265ea9d",
   "metadata": {},
   "source": [
    "## Exercise 1:\n",
    "\n",
    "From the given dataset print the first and last five rows\n",
    "![pandas_printing_first_5_rows.webp](data/ex1.webp)\n",
    "Python Pandas printing first 5 rows"
   ]
  },
  {
   "attachments": {},
   "cell_type": "markdown",
   "id": "d2e6919e",
   "metadata": {},
   "source": [
    "![pandas_printing_last_5_rows.webp](data/ex2.webp)\n",
    "Python Pandas printing last 5 rows"
   ]
  },
  {
   "cell_type": "markdown",
   "id": "53c086a1",
   "metadata": {},
   "source": [
    "## Exercise 2:\n",
    "\n",
    "**Clean the dataset and update the CSV file**\n",
    "\n",
    "Replace all column values which contain `?`, `n.a`, or `NaN` to `NaN`."
   ]
  },
  {
   "attachments": {},
   "cell_type": "markdown",
   "id": "59bc5773",
   "metadata": {},
   "source": [
    "## Exercise 3:\n",
    "**Find the most expensive car company name**\n",
    "\n",
    "Print most expensive car’s company name and price.\n",
    "\n",
    "- Desired Output:\n",
    "\n",
    "![pandas_printing_most_costly_car_name.webp](data/ex3.webp)"
   ]
  },
  {
   "attachments": {},
   "cell_type": "markdown",
   "id": "cf6c44fb",
   "metadata": {},
   "source": [
    "## Exercise 4:\n",
    "**Print All Toyota Cars details**\n",
    "- Desired Output:\n",
    "![pandas_printing_all_toyota_car_data.webp](data/ex4.webp)"
   ]
  },
  {
   "attachments": {},
   "cell_type": "markdown",
   "id": "7efb570d",
   "metadata": {},
   "source": [
    "## Exercise 5:\n",
    "Count total cars per company\n",
    "\n",
    "- Desired Outcome:\n",
    "\n",
    "![pandas_count_total_cars_per_company.webp](data/ex5.webp)"
   ]
  },
  {
   "attachments": {},
   "cell_type": "markdown",
   "id": "c9983073",
   "metadata": {},
   "source": [
    "## Exercise 6:\n",
    "Find each company's Higesht price car\n",
    "\n",
    "- Desired Outcome:\n",
    "\n",
    "![pandas_printing_each_companys_higesht_price_car.webp](data/ex6.webp)"
   ]
  },
  {
   "attachments": {},
   "cell_type": "markdown",
   "id": "47e642ba",
   "metadata": {},
   "source": [
    "### Exercise 7:\n",
    "Find the average mileage of each car making company\n",
    "- Desired Output:\n",
    "\n",
    "![pandas_printing_average_mileage_of_each_car_making_company.webp](data/ex7.webp)"
   ]
  },
  {
   "attachments": {},
   "cell_type": "markdown",
   "id": "6a80f96b",
   "metadata": {},
   "source": [
    "## Exercise 8:\n",
    "Sort all cars by Price column\n",
    "\n",
    "- Desired Output:\n",
    "\n",
    "![pandas_sort_all_cars_by_price_column.webp](data/ex8.webp)"
   ]
  },
  {
   "attachments": {},
   "cell_type": "markdown",
   "id": "a6c0414c",
   "metadata": {},
   "source": [
    "## Exercise 9:\n",
    "\n",
    "Concatenate two data frames using the following conditions\n",
    "\n",
    "Create two data frames using the following two dictionaries.\n",
    "\n",
    "```python\n",
    ">>> GermanCars = {'Company': ['Ford', 'Mercedes', 'BMV', 'Audi'], 'Price': [23845, 171995, 135925, 71400]}\n",
    ">>> japaneseCars = {'Company': ['Toyota', 'Honda', 'Nissan', 'Mitsubishi '], 'Price': [29995, 23600, 61500, 58900]}\n",
    "```\n",
    "\n",
    "- Desired Output:\n",
    "\n",
    "![pandas_concatenate_two_data_frames_and_create_key_for_each_data_frame.webp](data/ex9.webp)"
   ]
  },
  {
   "attachments": {},
   "cell_type": "markdown",
   "id": "3b7735b9",
   "metadata": {},
   "source": [
    "## Exercise 10:\n",
    "\n",
    "**Merge two data frames using the following condition**\n",
    "\n",
    "Create two data frames using the following two Dicts, Merge two data frames, and append the second data frame as a new column to the first data frame.\n",
    "\n",
    "```python\n",
    ">>> Car_Price = {'Company': ['Toyota', 'Honda', 'BMV', 'Audi'], 'Price': [23845, 17995, 135925 , 71400]}\n",
    ">>> car_Horsepower = {'Company': ['Toyota', 'Honda', 'BMV', 'Audi'], 'horsepower': [141, 80, 182 , 160]}\n",
    "```\n",
    "\n",
    "- Desired Output:\n",
    "\n",
    "![merge_two_data_frames_and_append_new_data_frame_as_new-column.webp](data/ex10.webp)"
   ]
  }
 ],
 "metadata": {
  "hide_input": false,
  "kernelspec": {
   "display_name": "Python 3 (ipykernel)",
   "language": "python",
   "name": "python3"
  },
  "language_info": {
   "codemirror_mode": {
    "name": "ipython",
    "version": 3
   },
   "file_extension": ".py",
   "mimetype": "text/x-python",
   "name": "python",
   "nbconvert_exporter": "python",
   "pygments_lexer": "ipython3",
   "version": "3.8.10"
  }
 },
 "nbformat": 4,
 "nbformat_minor": 5
}
